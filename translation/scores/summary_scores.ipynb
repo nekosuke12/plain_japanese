{
 "cells": [
  {
   "attachments": {},
   "cell_type": "markdown",
   "metadata": {},
   "source": [
    "## Summary of BART base score results\n",
    "### On automatic metrics"
   ]
  },
  {
   "cell_type": "code",
   "execution_count": 41,
   "metadata": {},
   "outputs": [
    {
     "data": {
      "text/html": [
       "<div>\n",
       "<style scoped>\n",
       "    .dataframe tbody tr th:only-of-type {\n",
       "        vertical-align: middle;\n",
       "    }\n",
       "\n",
       "    .dataframe tbody tr th {\n",
       "        vertical-align: top;\n",
       "    }\n",
       "\n",
       "    .dataframe thead th {\n",
       "        text-align: right;\n",
       "    }\n",
       "</style>\n",
       "<table border=\"1\" class=\"dataframe\">\n",
       "  <thead>\n",
       "    <tr style=\"text-align: right;\">\n",
       "      <th></th>\n",
       "      <th>original</th>\n",
       "      <th>simplified</th>\n",
       "      <th>generated</th>\n",
       "      <th>sari</th>\n",
       "      <th>bleu</th>\n",
       "      <th>bert_f1</th>\n",
       "      <th>bert_pre</th>\n",
       "      <th>bert_rec</th>\n",
       "    </tr>\n",
       "  </thead>\n",
       "  <tbody>\n",
       "    <tr>\n",
       "      <th>0</th>\n",
       "      <td>彼らは凍死した。</td>\n",
       "      <td>彼らは寒くなりすぎて、死んでしまった。</td>\n",
       "      <td>彼らは寒くて死んだ。</td>\n",
       "      <td>91.666667</td>\n",
       "      <td>0.311604</td>\n",
       "      <td>0.904811</td>\n",
       "      <td>0.939774</td>\n",
       "      <td>0.872357</td>\n",
       "    </tr>\n",
       "    <tr>\n",
       "      <th>1</th>\n",
       "      <td>では始めましょう。</td>\n",
       "      <td>では始めましょう。</td>\n",
       "      <td>では始めましょう。</td>\n",
       "      <td>NaN</td>\n",
       "      <td>NaN</td>\n",
       "      <td>NaN</td>\n",
       "      <td>NaN</td>\n",
       "      <td>NaN</td>\n",
       "    </tr>\n",
       "    <tr>\n",
       "      <th>2</th>\n",
       "      <td>その子供たちは歌いながら去って行った。</td>\n",
       "      <td>その子供たちは歌いながらどこかへ行った。</td>\n",
       "      <td>その子供たちは歌いながら出て行った。</td>\n",
       "      <td>91.666667</td>\n",
       "      <td>0.592890</td>\n",
       "      <td>0.924027</td>\n",
       "      <td>0.945746</td>\n",
       "      <td>0.903284</td>\n",
       "    </tr>\n",
       "    <tr>\n",
       "      <th>3</th>\n",
       "      <td>彼はクラスの他のどの少年よりも速く泳げる。</td>\n",
       "      <td>彼はクラスの他のどの少年よりも速く泳ぐことができる。</td>\n",
       "      <td>彼はクラスの他のどの少年よりも速く泳ぐことができる。</td>\n",
       "      <td>100.000000</td>\n",
       "      <td>0.900088</td>\n",
       "      <td>1.000000</td>\n",
       "      <td>1.000000</td>\n",
       "      <td>1.000000</td>\n",
       "    </tr>\n",
       "    <tr>\n",
       "      <th>4</th>\n",
       "      <td>彼女は私の成功をねたんでいる。</td>\n",
       "      <td>彼女は私の成功を悪く思っている。</td>\n",
       "      <td>彼女は私の成功を見て自分もそうなりたいと思っている。</td>\n",
       "      <td>91.666667</td>\n",
       "      <td>0.526009</td>\n",
       "      <td>0.890681</td>\n",
       "      <td>0.850680</td>\n",
       "      <td>0.934629</td>\n",
       "    </tr>\n",
       "    <tr>\n",
       "      <th>...</th>\n",
       "      <td>...</td>\n",
       "      <td>...</td>\n",
       "      <td>...</td>\n",
       "      <td>...</td>\n",
       "      <td>...</td>\n",
       "      <td>...</td>\n",
       "      <td>...</td>\n",
       "      <td>...</td>\n",
       "    </tr>\n",
       "    <tr>\n",
       "      <th>4995</th>\n",
       "      <td>今晩、うちに泊まってはどうですか。</td>\n",
       "      <td>今日の夜、うちで夜を過ごしてはどうですか。</td>\n",
       "      <td>今夜、うちに滞在してはどうですか。</td>\n",
       "      <td>91.666667</td>\n",
       "      <td>0.381811</td>\n",
       "      <td>0.868071</td>\n",
       "      <td>0.885671</td>\n",
       "      <td>0.851157</td>\n",
       "    </tr>\n",
       "    <tr>\n",
       "      <th>4996</th>\n",
       "      <td>彼は読書のしすぎで目を痛めた。</td>\n",
       "      <td>彼は長い時間本を読んで目を痛くなった。</td>\n",
       "      <td>彼は本を読むことが不足していると思った。</td>\n",
       "      <td>91.666667</td>\n",
       "      <td>0.264266</td>\n",
       "      <td>0.807420</td>\n",
       "      <td>0.812987</td>\n",
       "      <td>0.801928</td>\n",
       "    </tr>\n",
       "    <tr>\n",
       "      <th>4997</th>\n",
       "      <td>彼は自分の車を持っている。</td>\n",
       "      <td>彼は自分の車を持っている。</td>\n",
       "      <td>彼は自分の車を持っている。</td>\n",
       "      <td>NaN</td>\n",
       "      <td>NaN</td>\n",
       "      <td>NaN</td>\n",
       "      <td>NaN</td>\n",
       "      <td>NaN</td>\n",
       "    </tr>\n",
       "    <tr>\n",
       "      <th>4998</th>\n",
       "      <td>そのチームは誰がコーチをしているのですか。</td>\n",
       "      <td>そのチームは誰が指導しているのですか。</td>\n",
       "      <td>そのチームは誰が指導をしているのですか。</td>\n",
       "      <td>91.666667</td>\n",
       "      <td>0.794069</td>\n",
       "      <td>0.981463</td>\n",
       "      <td>0.981463</td>\n",
       "      <td>0.981463</td>\n",
       "    </tr>\n",
       "    <tr>\n",
       "      <th>4999</th>\n",
       "      <td>世の中にはよいものがたくさんある。</td>\n",
       "      <td>世界にはいいものがたくさんある。</td>\n",
       "      <td>世界にはよいものがたくさんある。</td>\n",
       "      <td>91.666667</td>\n",
       "      <td>0.622070</td>\n",
       "      <td>0.962328</td>\n",
       "      <td>0.956015</td>\n",
       "      <td>0.968725</td>\n",
       "    </tr>\n",
       "  </tbody>\n",
       "</table>\n",
       "<p>5000 rows × 8 columns</p>\n",
       "</div>"
      ],
      "text/plain": [
       "                   original                  simplified  \\\n",
       "0                  彼らは凍死した。         彼らは寒くなりすぎて、死んでしまった。   \n",
       "1                 では始めましょう。                   では始めましょう。   \n",
       "2       その子供たちは歌いながら去って行った。        その子供たちは歌いながらどこかへ行った。   \n",
       "3     彼はクラスの他のどの少年よりも速く泳げる。  彼はクラスの他のどの少年よりも速く泳ぐことができる。   \n",
       "4           彼女は私の成功をねたんでいる。            彼女は私の成功を悪く思っている。   \n",
       "...                     ...                         ...   \n",
       "4995      今晩、うちに泊まってはどうですか。       今日の夜、うちで夜を過ごしてはどうですか。   \n",
       "4996        彼は読書のしすぎで目を痛めた。         彼は長い時間本を読んで目を痛くなった。   \n",
       "4997          彼は自分の車を持っている。               彼は自分の車を持っている。   \n",
       "4998  そのチームは誰がコーチをしているのですか。         そのチームは誰が指導しているのですか。   \n",
       "4999      世の中にはよいものがたくさんある。            世界にはいいものがたくさんある。   \n",
       "\n",
       "                       generated        sari      bleu   bert_f1  bert_pre  \\\n",
       "0                     彼らは寒くて死んだ。   91.666667  0.311604  0.904811  0.939774   \n",
       "1                      では始めましょう。         NaN       NaN       NaN       NaN   \n",
       "2             その子供たちは歌いながら出て行った。   91.666667  0.592890  0.924027  0.945746   \n",
       "3     彼はクラスの他のどの少年よりも速く泳ぐことができる。  100.000000  0.900088  1.000000  1.000000   \n",
       "4     彼女は私の成功を見て自分もそうなりたいと思っている。   91.666667  0.526009  0.890681  0.850680   \n",
       "...                          ...         ...       ...       ...       ...   \n",
       "4995           今夜、うちに滞在してはどうですか。   91.666667  0.381811  0.868071  0.885671   \n",
       "4996        彼は本を読むことが不足していると思った。   91.666667  0.264266  0.807420  0.812987   \n",
       "4997               彼は自分の車を持っている。         NaN       NaN       NaN       NaN   \n",
       "4998        そのチームは誰が指導をしているのですか。   91.666667  0.794069  0.981463  0.981463   \n",
       "4999            世界にはよいものがたくさんある。   91.666667  0.622070  0.962328  0.956015   \n",
       "\n",
       "      bert_rec  \n",
       "0     0.872357  \n",
       "1          NaN  \n",
       "2     0.903284  \n",
       "3     1.000000  \n",
       "4     0.934629  \n",
       "...        ...  \n",
       "4995  0.851157  \n",
       "4996  0.801928  \n",
       "4997       NaN  \n",
       "4998  0.981463  \n",
       "4999  0.968725  \n",
       "\n",
       "[5000 rows x 8 columns]"
      ]
     },
     "execution_count": 41,
     "metadata": {},
     "output_type": "execute_result"
    }
   ],
   "source": [
    "# load scores\n",
    "import pandas as pd\n",
    "\n",
    "base_scores = pd.read_csv(\"base_scores.csv\", sep=\",\", header=0)\n",
    "base_scores"
   ]
  },
  {
   "cell_type": "code",
   "execution_count": 42,
   "metadata": {},
   "outputs": [
    {
     "name": "stdout",
     "output_type": "stream",
     "text": [
      "bleu 0.6664571788618259\n",
      "sari 94.34949424485525\n",
      "bert 0.9438493610426321\n"
     ]
    }
   ],
   "source": [
    "# median and mean of each scores\n",
    "\n",
    "sari_mean = base_scores['sari'].mean()\n",
    "bleu_mean = base_scores['bleu'].mean()\n",
    "bertf1_mean = base_scores['bert_f1'].mean()\n",
    "\n",
    "print(\"bleu\", bleu_mean)\n",
    "print(\"sari\", sari_mean)\n",
    "print('bert', bertf1_mean)"
   ]
  },
  {
   "attachments": {},
   "cell_type": "markdown",
   "metadata": {},
   "source": [
    "### Manual Evaluation"
   ]
  },
  {
   "cell_type": "code",
   "execution_count": 43,
   "metadata": {},
   "outputs": [
    {
     "data": {
      "text/html": [
       "<div>\n",
       "<style scoped>\n",
       "    .dataframe tbody tr th:only-of-type {\n",
       "        vertical-align: middle;\n",
       "    }\n",
       "\n",
       "    .dataframe tbody tr th {\n",
       "        vertical-align: top;\n",
       "    }\n",
       "\n",
       "    .dataframe thead th {\n",
       "        text-align: right;\n",
       "    }\n",
       "</style>\n",
       "<table border=\"1\" class=\"dataframe\">\n",
       "  <thead>\n",
       "    <tr style=\"text-align: right;\">\n",
       "      <th></th>\n",
       "      <th>Unnamed: 0</th>\n",
       "      <th>original</th>\n",
       "      <th>generated</th>\n",
       "      <th>plainness1</th>\n",
       "      <th>synonymity1</th>\n",
       "      <th>grammaticality1</th>\n",
       "      <th>plainness2</th>\n",
       "      <th>synonymity2</th>\n",
       "      <th>grammaticality2</th>\n",
       "    </tr>\n",
       "  </thead>\n",
       "  <tbody>\n",
       "    <tr>\n",
       "      <th>0</th>\n",
       "      <td>3206</td>\n",
       "      <td>彼は裏金をもらいました。</td>\n",
       "      <td>彼は裏に金をもらいました。</td>\n",
       "      <td>2</td>\n",
       "      <td>1</td>\n",
       "      <td>2</td>\n",
       "      <td>2</td>\n",
       "      <td>2</td>\n",
       "      <td>2</td>\n",
       "    </tr>\n",
       "    <tr>\n",
       "      <th>1</th>\n",
       "      <td>2785</td>\n",
       "      <td>お手伝いしようか。</td>\n",
       "      <td>手伝いしようか。</td>\n",
       "      <td>2</td>\n",
       "      <td>3</td>\n",
       "      <td>2</td>\n",
       "      <td>2</td>\n",
       "      <td>3</td>\n",
       "      <td>3</td>\n",
       "    </tr>\n",
       "    <tr>\n",
       "      <th>2</th>\n",
       "      <td>4644</td>\n",
       "      <td>網にかかったものは何でも魚だ。</td>\n",
       "      <td>海の流れにかかったものは何でも魚だ。</td>\n",
       "      <td>2</td>\n",
       "      <td>1</td>\n",
       "      <td>2</td>\n",
       "      <td>3</td>\n",
       "      <td>1</td>\n",
       "      <td>3</td>\n",
       "    </tr>\n",
       "    <tr>\n",
       "      <th>3</th>\n",
       "      <td>1324</td>\n",
       "      <td>私たちは互いに慰め合った。</td>\n",
       "      <td>私たちは互いに話した。</td>\n",
       "      <td>3</td>\n",
       "      <td>2</td>\n",
       "      <td>3</td>\n",
       "      <td>3</td>\n",
       "      <td>1</td>\n",
       "      <td>3</td>\n",
       "    </tr>\n",
       "    <tr>\n",
       "      <th>4</th>\n",
       "      <td>627</td>\n",
       "      <td>船便で行くといくらになりますか。</td>\n",
       "      <td>船で行くといくらになりますか。</td>\n",
       "      <td>2</td>\n",
       "      <td>3</td>\n",
       "      <td>3</td>\n",
       "      <td>2</td>\n",
       "      <td>1</td>\n",
       "      <td>3</td>\n",
       "    </tr>\n",
       "    <tr>\n",
       "      <th>...</th>\n",
       "      <td>...</td>\n",
       "      <td>...</td>\n",
       "      <td>...</td>\n",
       "      <td>...</td>\n",
       "      <td>...</td>\n",
       "      <td>...</td>\n",
       "      <td>...</td>\n",
       "      <td>...</td>\n",
       "      <td>...</td>\n",
       "    </tr>\n",
       "    <tr>\n",
       "      <th>295</th>\n",
       "      <td>2800</td>\n",
       "      <td>君の車に私を乗せて下さい。</td>\n",
       "      <td>あなたの車に私を乗らせてください。</td>\n",
       "      <td>3</td>\n",
       "      <td>3</td>\n",
       "      <td>2</td>\n",
       "      <td>2</td>\n",
       "      <td>3</td>\n",
       "      <td>2</td>\n",
       "    </tr>\n",
       "    <tr>\n",
       "      <th>296</th>\n",
       "      <td>3470</td>\n",
       "      <td>私たちはものすごい雪のために遅れた。</td>\n",
       "      <td>私たちは多く雪のために遅れた。</td>\n",
       "      <td>2</td>\n",
       "      <td>2</td>\n",
       "      <td>2</td>\n",
       "      <td>2</td>\n",
       "      <td>3</td>\n",
       "      <td>1</td>\n",
       "    </tr>\n",
       "    <tr>\n",
       "      <th>297</th>\n",
       "      <td>1051</td>\n",
       "      <td>彼女は年寄りに親切です。</td>\n",
       "      <td>彼女は年をとって力のない人に親切です。</td>\n",
       "      <td>3</td>\n",
       "      <td>2</td>\n",
       "      <td>3</td>\n",
       "      <td>2</td>\n",
       "      <td>2</td>\n",
       "      <td>3</td>\n",
       "    </tr>\n",
       "    <tr>\n",
       "      <th>298</th>\n",
       "      <td>2095</td>\n",
       "      <td>風が凪いだ。</td>\n",
       "      <td>風が弱くなった。</td>\n",
       "      <td>3</td>\n",
       "      <td>3</td>\n",
       "      <td>3</td>\n",
       "      <td>3</td>\n",
       "      <td>3</td>\n",
       "      <td>3</td>\n",
       "    </tr>\n",
       "    <tr>\n",
       "      <th>299</th>\n",
       "      <td>382</td>\n",
       "      <td>おしるしが出ました。</td>\n",
       "      <td>感謝の気持ちが出ました。</td>\n",
       "      <td>2</td>\n",
       "      <td>2</td>\n",
       "      <td>2</td>\n",
       "      <td>2</td>\n",
       "      <td>1</td>\n",
       "      <td>3</td>\n",
       "    </tr>\n",
       "  </tbody>\n",
       "</table>\n",
       "<p>300 rows × 9 columns</p>\n",
       "</div>"
      ],
      "text/plain": [
       "     Unnamed: 0            original            generated  plainness1  \\\n",
       "0          3206        彼は裏金をもらいました。        彼は裏に金をもらいました。           2   \n",
       "1          2785           お手伝いしようか。             手伝いしようか。           2   \n",
       "2          4644     網にかかったものは何でも魚だ。   海の流れにかかったものは何でも魚だ。           2   \n",
       "3          1324       私たちは互いに慰め合った。          私たちは互いに話した。           3   \n",
       "4           627    船便で行くといくらになりますか。      船で行くといくらになりますか。           2   \n",
       "..          ...                 ...                  ...         ...   \n",
       "295        2800       君の車に私を乗せて下さい。    あなたの車に私を乗らせてください。           3   \n",
       "296        3470  私たちはものすごい雪のために遅れた。      私たちは多く雪のために遅れた。           2   \n",
       "297        1051        彼女は年寄りに親切です。  彼女は年をとって力のない人に親切です。           3   \n",
       "298        2095              風が凪いだ。             風が弱くなった。           3   \n",
       "299         382          おしるしが出ました。         感謝の気持ちが出ました。           2   \n",
       "\n",
       "     synonymity1  grammaticality1  plainness2  synonymity2  grammaticality2  \n",
       "0              1                2           2            2                2  \n",
       "1              3                2           2            3                3  \n",
       "2              1                2           3            1                3  \n",
       "3              2                3           3            1                3  \n",
       "4              3                3           2            1                3  \n",
       "..           ...              ...         ...          ...              ...  \n",
       "295            3                2           2            3                2  \n",
       "296            2                2           2            3                1  \n",
       "297            2                3           2            2                3  \n",
       "298            3                3           3            3                3  \n",
       "299            2                2           2            1                3  \n",
       "\n",
       "[300 rows x 9 columns]"
      ]
     },
     "execution_count": 43,
     "metadata": {},
     "output_type": "execute_result"
    }
   ],
   "source": [
    "anno = pd.read_csv(\"annotated_base.csv\", sep=\",\", header=0)\n",
    "anno"
   ]
  },
  {
   "attachments": {},
   "cell_type": "markdown",
   "metadata": {},
   "source": [
    "#### Cohen's Kappa"
   ]
  },
  {
   "cell_type": "code",
   "execution_count": 45,
   "metadata": {},
   "outputs": [],
   "source": [
    "plainness1 = anno['plainness1']\n",
    "plainness2 = anno['plainness2']\n",
    "synonymity1 = anno['synonymity1']\n",
    "synonymity2 = anno['synonymity2']\n",
    "grammaticality1 = anno['grammaticality1'] \n",
    "grammaticality2 = anno['grammaticality2']"
   ]
  },
  {
   "cell_type": "code",
   "execution_count": 46,
   "metadata": {},
   "outputs": [
    {
     "name": "stdout",
     "output_type": "stream",
     "text": [
      "c_plainness is  0.409707039790118\n",
      "c_synonymity is  0.6182049572753168\n",
      "c_grammaticality is  0.41946719989679415\n"
     ]
    }
   ],
   "source": [
    "from sklearn.metrics import cohen_kappa_score\n",
    "\n",
    "print(\"c_plainness is \", cohen_kappa_score(plainness1, plainness2))\n",
    "print(\"c_synonymity is \", cohen_kappa_score(synonymity1, synonymity2))\n",
    "print(\"c_grammaticality is \", cohen_kappa_score(grammaticality1, grammaticality2))\n"
   ]
  },
  {
   "attachments": {},
   "cell_type": "markdown",
   "metadata": {},
   "source": [
    "#### Rated as 3?"
   ]
  },
  {
   "cell_type": "code",
   "execution_count": 47,
   "metadata": {},
   "outputs": [],
   "source": [
    "def printout(data1, data2, criteria):\n",
    "    count_anno1 = len([i for i in data1 if i==3])\n",
    "    count_anno2 = len([i for i in data2 if i==3])\n",
    "    print('{}:3 according to annotator1: {} in total, i.e. {} % of the data'.format(criteria, count_anno1, 100 * round(count_anno1 / len(data1), 4)))\n",
    "    print('{}:3 according to annotator2: {} in total, i.e. {} % of the data'.format(criteria, count_anno2, 100 * round(count_anno2 / len(data2), 4)))"
   ]
  },
  {
   "cell_type": "code",
   "execution_count": 40,
   "metadata": {},
   "outputs": [
    {
     "name": "stdout",
     "output_type": "stream",
     "text": [
      "plainness:3 according to annotator1: 134 in total, i.e. 44.67 % of the data\n",
      "plainness:3 according to annotator2: 155 in total, i.e. 51.67 % of the data\n",
      "synonymity:3 according to annotator1: 175 in total, i.e. 58.330000000000005 % of the data\n",
      "synonymity:3 according to annotator2: 192 in total, i.e. 64.0 % of the data\n",
      "grammaticality:3 according to annotator1: 232 in total, i.e. 77.33 % of the data\n",
      "grammaticality:3 according to annotator2: 247 in total, i.e. 82.33 % of the data\n"
     ]
    }
   ],
   "source": [
    "printout(plainness1, plainness2, 'plainness')\n",
    "printout(synonymity1, synonymity2, 'synonymity')\n",
    "printout(grammaticality1, grammaticality2, 'grammaticality')"
   ]
  },
  {
   "cell_type": "code",
   "execution_count": 52,
   "metadata": {},
   "outputs": [
    {
     "name": "stdout",
     "output_type": "stream",
     "text": [
      "all elements are 3 (well simplified) for annotator1:  33.67 %\n",
      "all elements are 3 (well simplified) for annotator2:  32.67 %\n"
     ]
    }
   ],
   "source": [
    "print(\"all elements are 3 (well simplified) for annotator1: \", \\\n",
    "    100 * round(anno[(anno['plainness1'] == 3) & (anno['synonymity1'] == 3) & (anno['grammaticality1'] == 3)]['original'].count() /300, 4), \"%\")\n",
    "\n",
    "print(\"all elements are 3 (well simplified) for annotator2: \", \\\n",
    "    100 * round(anno[(anno['plainness2'] == 3) & (anno['synonymity2'] == 3) & (anno['grammaticality2'] == 3)]['original'].count() / 300, 4), \"%\")"
   ]
  },
  {
   "attachments": {},
   "cell_type": "markdown",
   "metadata": {},
   "source": [
    "#### Confusion Matrix"
   ]
  },
  {
   "cell_type": "code",
   "execution_count": 13,
   "metadata": {},
   "outputs": [],
   "source": [
    "# modified from https://gist.github.com/mesquita/f6beffcc2579c6f3a97c9d93e278a9f1\n",
    "from matplotlib.ticker import PercentFormatter\n",
    "import matplotlib.pyplot as plt\n",
    "import seaborn as sns\n",
    "from sklearn.metrics import confusion_matrix\n",
    "\n",
    "def cm_analysis(y_true, y_pred, labels, classes, criteria, ymap=None, figsize=(10,10)):\n",
    "    sns.set(font_scale=2.0)\n",
    "\n",
    "    if ymap is not None:\n",
    "        y_pred = [ymap[yi] for yi in y_pred]\n",
    "        y_true = [ymap[yi] for yi in y_true]\n",
    "        labels = [ymap[yi] for yi in labels]\n",
    "    cm = confusion_matrix(y_true, y_pred, labels=labels)\n",
    "    cm_sum = np.sum(cm, axis=1, keepdims=True)\n",
    "    cm_perc = cm / cm_sum.astype(float) * 100\n",
    "    annot = np.empty_like(cm).astype(str)\n",
    "    nrows, ncols = cm.shape\n",
    "    \n",
    "    for i in range(nrows):\n",
    "        for j in range(ncols):\n",
    "            c = cm[i, j]\n",
    "            annot[i, j] = '%d' % (c)\n",
    "    cm = confusion_matrix(y_true, y_pred, labels=labels, normalize='true')\n",
    "    cm = pd.DataFrame(cm, index=labels, columns=labels)\n",
    "    cm = cm * 100\n",
    "    cm.index.name = 'Annotator2'\n",
    "    cm.columns.name = 'Annotator1'\n",
    "    fig, ax = plt.subplots(figsize=figsize)\n",
    "    plt.yticks(va='center')\n",
    "    plt.title(criteria)\n",
    "\n",
    "    sns.heatmap(cm, annot=annot, fmt='', ax=ax, xticklabels=classes, cbar=False, yticklabels=classes)"
   ]
  },
  {
   "attachments": {},
   "cell_type": "markdown",
   "metadata": {},
   "source": [
    "##### Plainness"
   ]
  },
  {
   "cell_type": "code",
   "execution_count": 14,
   "metadata": {},
   "outputs": [
    {
     "data": {
      "image/png": "[encoded data removed]",
      "text/plain": [
       "<Figure size 1000x1000 with 1 Axes>"
      ]
     },
     "metadata": {},
     "output_type": "display_data"
    }
   ],
   "source": [
    "cm_analysis(plainness1, plainness2, labels=[1, 2, 3], classes=[1, 2, 3], criteria='plainness', ymap=None)"
   ]
  },
  {
   "attachments": {},
   "cell_type": "markdown",
   "metadata": {},
   "source": [
    "##### Synonymity"
   ]
  },
  {
   "cell_type": "code",
   "execution_count": 15,
   "metadata": {},
   "outputs": [
    {
     "data": {
      "image/png": "[encoded data removed]",
      "text/plain": [
       "<Figure size 1000x1000 with 1 Axes>"
      ]
     },
     "metadata": {},
     "output_type": "display_data"
    }
   ],
   "source": [
    "cm_analysis(synonymity1, synonymity2, labels=[1, 2, 3], classes=[1, 2, 3], criteria='synonymity', ymap=None)"
   ]
  },
  {
   "attachments": {},
   "cell_type": "markdown",
   "metadata": {},
   "source": [
    "##### Grammaticality"
   ]
  },
  {
   "cell_type": "code",
   "execution_count": 16,
   "metadata": {},
   "outputs": [
    {
     "data": {
      "image/png": "[encoded data removed]",
      "text/plain": [
       "<Figure size 1000x1000 with 1 Axes>"
      ]
     },
     "metadata": {},
     "output_type": "display_data"
    }
   ],
   "source": [
    "cm_analysis(grammaticality1, grammaticality2, labels=[1, 2, 3], classes=[1, 2, 3], criteria='grammaticality', ymap=None)"
   ]
  }
 ],
 "metadata": {
  "kernelspec": {
   "display_name": "JPJ",
   "language": "python",
   "name": "python3"
  },
  "language_info": {
   "codemirror_mode": {
    "name": "ipython",
    "version": 3
   },
   "file_extension": ".py",
   "mimetype": "text/x-python",
   "name": "python",
   "nbconvert_exporter": "python",
   "pygments_lexer": "ipython3",
   "version": "3.9.13"
  },
  "orig_nbformat": 4,
  "vscode": {
   "interpreter": {
    "hash": "1c53849db58ec21d1a5e9d606ff0d3cd331403fcba7546cac58056665f0ad626"
   }
  }
 },
 "nbformat": 4,
 "nbformat_minor": 2
}
